{
  "cells": [
    {
      "cell_type": "markdown",
      "metadata": {
        "id": "view-in-github",
        "colab_type": "text"
      },
      "source": [
        "<a href=\"https://colab.research.google.com/github/Lathika2264/Factorial/blob/main/Welcome_to_Colaboratory.ipynb\" target=\"_parent\"><img src=\"https://colab.research.google.com/assets/colab-badge.svg\" alt=\"Open In Colab\"/></a>"
      ]
    },
    {
      "cell_type": "code",
      "source": [
        "#Single Set of Input\n",
        "def calculate_percentages(candidates):\n",
        "    \"\"\"Calculate the percentage distribution for each candidate.\"\"\"\n",
        "    total_votes = sum(candidates.values())\n",
        "    if total_votes == 0:\n",
        "        return {candidate: 0 for candidate in candidates}\n",
        "    return {candidate: (votes / total_votes) * 100 for candidate, votes in candidates.items()}\n",
        "def process_single_set(file_path):\n",
        "    \"\"\"Process a single set of input votes.\"\"\"\n",
        "    candidates = {}\n",
        "\n",
        "    with open(file_path, \"r\") as file:\n",
        "        votes = file.readlines()\n",
        "\n",
        "    for vote in votes:\n",
        "        vote = vote.strip()\n",
        "        if vote:\n",
        "            candidates[vote] = candidates.get(vote, 0) + 1\n",
        "    percentages = calculate_percentages(candidates)\n",
        "\n",
        "    print(\"Percentage Distribution (Single Set of Input):\")\n",
        "    for candidate, percentage in percentages.items():\n",
        "        print(f\"{candidate}: {percentage:.2f}%\")\n",
        "# File path\n",
        "file_path = \"votes_single.txt\"\n",
        "process_single_set(file_path)"
      ],
      "metadata": {
        "id": "S-jwkOSYyNK4",
        "outputId": "17851e74-d640-4069-9023-bc386e46dc45",
        "colab": {
          "base_uri": "https://localhost:8080/"
        }
      },
      "execution_count": 1,
      "outputs": [
        {
          "output_type": "stream",
          "name": "stdout",
          "text": [
            "Percentage Distribution (Single Set of Input):\n",
            "shyamala: 30.00%\n",
            "lathika: 40.00%\n",
            "akshaya: 30.00%\n"
          ]
        }
      ]
    },
    {
      "cell_type": "code",
      "source": [
        "# Multiple Sets of Input\n",
        "def calculate_percentages(candidates):\n",
        "    \"\"\"Calculate the percentage distribution for each candidate.\"\"\"\n",
        "    total_votes = sum(candidates.values())\n",
        "    if total_votes == 0:\n",
        "        return {candidate: 0 for candidate in candidates}\n",
        "    return {candidate: (votes / total_votes) * 100 for candidate, votes in candidates.items()}\n",
        "\n",
        "def process_multiple_sets(file_path):\n",
        "    \"\"\"Process multiple sets of input votes.\"\"\"\n",
        "    sessions = []\n",
        "    with open(file_path, \"r\") as file:\n",
        "        votes = file.readlines()\n",
        "\n",
        "    current_session = []\n",
        "    for vote in votes:\n",
        "        vote = vote.strip()\n",
        "        if vote == \"---\":\n",
        "            if current_session:\n",
        "                sessions.append(current_session)\n",
        "                current_session = []\n",
        "        elif vote:\n",
        "            current_session.append(vote)\n",
        "    if current_session:\n",
        "        sessions.append(current_session)\n",
        "\n",
        "    candidates = {}\n",
        "    for session in sessions:\n",
        "        for vote in session:\n",
        "            candidates[vote] = candidates.get(vote, 0) + 1\n",
        "\n",
        "    percentages = calculate_percentages(candidates)\n",
        "\n",
        "    print(\"Percentage Distribution (Multiple Sets of Input):\")\n",
        "    for candidate, percentage in percentages.items():\n",
        "        print(f\"{candidate}: {percentage:.2f}%\")\n",
        "\n",
        "# File path\n",
        "file_path = \"votes_multiple.txt\"\n",
        "process_multiple_sets(file_path)"
      ],
      "metadata": {
        "id": "VIQpy4xUyjCw",
        "outputId": "e5cb4f37-09b7-44c3-a30d-8055ece2770d",
        "colab": {
          "base_uri": "https://localhost:8080/"
        }
      },
      "execution_count": 2,
      "outputs": [
        {
          "output_type": "stream",
          "name": "stdout",
          "text": [
            "Percentage Distribution (Multiple Sets of Input):\n",
            "Shyamala: 21.43%\n",
            "krishna: 28.57%\n",
            "Lathika: 21.43%\n",
            "Vasanth: 28.57%\n"
          ]
        }
      ]
    }
  ],
  "metadata": {
    "colab": {
      "name": "Welcome to Colaboratory",
      "provenance": [],
      "include_colab_link": true
    },
    "kernelspec": {
      "display_name": "Python 3",
      "name": "python3"
    }
  },
  "nbformat": 4,
  "nbformat_minor": 0
}